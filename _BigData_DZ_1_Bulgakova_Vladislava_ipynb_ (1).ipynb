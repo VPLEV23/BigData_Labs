{
  "nbformat": 4,
  "nbformat_minor": 0,
  "metadata": {
    "colab": {
      "name": "\"BigData_DZ_1 Bulgakova Vladislava.ipynb\"",
      "provenance": [],
      "collapsed_sections": []
    },
    "kernelspec": {
      "name": "python3",
      "display_name": "Python 3"
    }
  },
  "cells": [
    {
      "cell_type": "code",
      "metadata": {
        "id": "9awTo1fPuh-g"
      },
      "source": [
        ""
      ],
      "execution_count": null,
      "outputs": []
    },
    {
      "cell_type": "markdown",
      "metadata": {
        "id": "l2jgY9e61U9-"
      },
      "source": [
        "1.   Створити Series використовуючи Numpy масив з рандомних цілочисельних значень довільного розміру (більше 15). Індекси повинні починатись з числа 3.\n",
        "2.   Змінити назву серії.\n",
        "3.   Збільшити індекси на 4 та помножити їх на 2 (0->8, 1->10, 2->12, 3->14,...).\n",
        "4.   Змінити індекс першого елементу на 1.\n",
        "5.   Вивести серію в зворотному порядку (використовуючи зрізи).\n",
        "6.   Вивести серію в зворотному порядку через два елементи.\n",
        "7.   Кожен п'ятий елемент серії помножити на 10.\n",
        "8.   Пять елементів з кінця помножити на 2.\n",
        "9.   Визначити елементи, більші за моду.\n",
        "10.   Замінити ці елементи довільним скаляром.\n",
        "11.   Помножити на скаляр всі елементи менші або рівні за моду.\n",
        "12.   Видалити елементи більші за медіану.\n",
        "13.   Видалити з серії мінімальне та максимальне значення.\n",
        "\n"
      ]
    },
    {
      "cell_type": "markdown",
      "metadata": {
        "id": "kLo0wdlvesmy"
      },
      "source": [
        "0. Імпорт бібліотек"
      ]
    },
    {
      "cell_type": "code",
      "metadata": {
        "id": "rGchk1FY1Z29"
      },
      "source": [
        "import numpy as np\n",
        "import pandas as pd\n"
      ],
      "execution_count": 4,
      "outputs": []
    },
    {
      "cell_type": "markdown",
      "metadata": {
        "id": "-uxwOLfRfDva"
      },
      "source": [
        "1.  Створити Series використовуючи Numpy масив з рандомних цілочисельних значень довільного розміру (більше 15). Індекси повинні починатись з числа 3."
      ]
    },
    {
      "cell_type": "code",
      "metadata": {
        "id": "e0p_IaRM5WKw",
        "colab": {
          "base_uri": "https://localhost:8080/"
        },
        "outputId": "37256114-d283-4049-890f-f4b0a9c0c776"
      },
      "source": [
        "s1 = pd.Series(np.random.randint(20,size=20))\n",
        "s1.index += 3\n",
        "s1"
      ],
      "execution_count": 7,
      "outputs": [
        {
          "output_type": "execute_result",
          "data": {
            "text/plain": [
              "3      9\n",
              "4      6\n",
              "5     12\n",
              "6      2\n",
              "7      6\n",
              "8     11\n",
              "9     10\n",
              "10     6\n",
              "11     0\n",
              "12     9\n",
              "13     6\n",
              "14    14\n",
              "15     8\n",
              "16     0\n",
              "17    19\n",
              "18    14\n",
              "19     8\n",
              "20     8\n",
              "21     6\n",
              "22    13\n",
              "dtype: int64"
            ]
          },
          "metadata": {
            "tags": []
          },
          "execution_count": 7
        }
      ]
    },
    {
      "cell_type": "markdown",
      "metadata": {
        "id": "Z7_DypubfHwi"
      },
      "source": [
        "2. Змінити назву серії."
      ]
    },
    {
      "cell_type": "code",
      "metadata": {
        "id": "_Aft5jeJ5Xs4",
        "colab": {
          "base_uri": "https://localhost:8080/"
        },
        "outputId": "807340ab-5918-412e-9d9a-ac8095ea2436"
      },
      "source": [
        "s1 = s1.rename(\"Seria_1\")\n",
        "s1"
      ],
      "execution_count": 12,
      "outputs": [
        {
          "output_type": "execute_result",
          "data": {
            "text/plain": [
              "100     9\n",
              "132     6\n",
              "164    12\n",
              "196     2\n",
              "228     6\n",
              "260    11\n",
              "292    10\n",
              "324     6\n",
              "356     0\n",
              "388     9\n",
              "420     6\n",
              "452    14\n",
              "484     8\n",
              "516     0\n",
              "548    19\n",
              "580    14\n",
              "612     8\n",
              "644     8\n",
              "676     6\n",
              "708    13\n",
              "Name: Seria_1, dtype: int64"
            ]
          },
          "metadata": {
            "tags": []
          },
          "execution_count": 12
        }
      ]
    },
    {
      "cell_type": "markdown",
      "metadata": {
        "id": "NQ6H7XpCfHgC"
      },
      "source": [
        "3. Збільшити індекси на 4 та помножити їх на 2 (0->8, 1->10, 2->12, 3->14,...)."
      ]
    },
    {
      "cell_type": "code",
      "metadata": {
        "id": "PvpQRLM85yNY"
      },
      "source": [
        "s1.index += 4\n",
        "s1 = s1.rename(lambda x: x*2)"
      ],
      "execution_count": 14,
      "outputs": []
    },
    {
      "cell_type": "markdown",
      "metadata": {
        "id": "N9G7_J7ifHSK"
      },
      "source": [
        "4. Змінити індекс першого елементу на 1."
      ]
    },
    {
      "cell_type": "code",
      "metadata": {
        "id": "VrDbh32p62KR",
        "colab": {
          "base_uri": "https://localhost:8080/"
        },
        "outputId": "bb81d0d2-852b-45ab-a783-37b81a2e29eb"
      },
      "source": [
        "s1 = s1.rename({1 : 1})\n",
        "s1"
      ],
      "execution_count": 16,
      "outputs": [
        {
          "output_type": "execute_result",
          "data": {
            "text/plain": [
              "208      9\n",
              "272      6\n",
              "336     12\n",
              "400      2\n",
              "464      6\n",
              "528     11\n",
              "592     10\n",
              "656      6\n",
              "720      0\n",
              "784      9\n",
              "848      6\n",
              "912     14\n",
              "976      8\n",
              "1040     0\n",
              "1104    19\n",
              "1168    14\n",
              "1232     8\n",
              "1296     8\n",
              "1360     6\n",
              "1424    13\n",
              "Name: Seria_1, dtype: int64"
            ]
          },
          "metadata": {
            "tags": []
          },
          "execution_count": 16
        }
      ]
    },
    {
      "cell_type": "markdown",
      "metadata": {
        "id": "PcbMsZVt79Xw"
      },
      "source": [
        "5. Вивести серію в зворотному порядку (використовуючи зрізи)."
      ]
    },
    {
      "cell_type": "code",
      "metadata": {
        "id": "N4qEkPeP7IJR"
      },
      "source": [
        "s1 = s1[::-1]"
      ],
      "execution_count": 23,
      "outputs": []
    },
    {
      "cell_type": "markdown",
      "metadata": {
        "id": "RphjMVsYfSbC"
      },
      "source": [
        "6. Вивести серію в зворотному порядку через два елементи."
      ]
    },
    {
      "cell_type": "code",
      "metadata": {
        "id": "Nrhbbydo8BnP",
        "colab": {
          "base_uri": "https://localhost:8080/"
        },
        "outputId": "0be85e3a-71ea-45c7-c207-f4052665890b"
      },
      "source": [
        "s1[::2]\n"
      ],
      "execution_count": 24,
      "outputs": [
        {
          "output_type": "execute_result",
          "data": {
            "text/plain": [
              "1424    13\n",
              "1296     8\n",
              "1168    14\n",
              "1040     0\n",
              "912     14\n",
              "784      9\n",
              "656      6\n",
              "528     11\n",
              "400      2\n",
              "272      6\n",
              "Name: Seria_1, dtype: int64"
            ]
          },
          "metadata": {
            "tags": []
          },
          "execution_count": 24
        }
      ]
    },
    {
      "cell_type": "markdown",
      "metadata": {
        "id": "fVY_LCHU_Duz"
      },
      "source": [
        "7. Кожен п'ятий елемент серії помножити на 10."
      ]
    },
    {
      "cell_type": "code",
      "metadata": {
        "id": "E8Tqh4ud-KOz",
        "colab": {
          "base_uri": "https://localhost:8080/"
        },
        "outputId": "2d220e92-6d25-489c-dbdd-121cf1a24e71"
      },
      "source": [
        "s1[4::5] = s1[2::5] * 10\n",
        "s1"
      ],
      "execution_count": 25,
      "outputs": [
        {
          "output_type": "execute_result",
          "data": {
            "text/plain": [
              "1424     13\n",
              "1360      6\n",
              "1296      8\n",
              "1232      8\n",
              "1168     80\n",
              "1104     19\n",
              "1040      0\n",
              "976       8\n",
              "912      14\n",
              "848      80\n",
              "784       9\n",
              "720       0\n",
              "656       6\n",
              "592      10\n",
              "528      60\n",
              "464       6\n",
              "400       2\n",
              "336      12\n",
              "272       6\n",
              "208     120\n",
              "Name: Seria_1, dtype: int64"
            ]
          },
          "metadata": {
            "tags": []
          },
          "execution_count": 25
        }
      ]
    },
    {
      "cell_type": "markdown",
      "metadata": {
        "id": "Mi37GJ6t_xmD"
      },
      "source": [
        "8. Пять елементів з кінця помножити на 2."
      ]
    },
    {
      "cell_type": "code",
      "metadata": {
        "id": "7305dKCl_2wq",
        "colab": {
          "base_uri": "https://localhost:8080/"
        },
        "outputId": "2cd28322-9047-4238-af77-90586343b420"
      },
      "source": [
        "s1[::4] * 2"
      ],
      "execution_count": 39,
      "outputs": [
        {
          "output_type": "execute_result",
          "data": {
            "text/plain": [
              "1424    26\n",
              "1168    46\n",
              "912     28\n",
              "656     12\n",
              "400      4\n",
              "Name: Seria_1, dtype: int64"
            ]
          },
          "metadata": {
            "tags": []
          },
          "execution_count": 39
        }
      ]
    },
    {
      "cell_type": "markdown",
      "metadata": {
        "id": "RmytK8s9A7ZF"
      },
      "source": [
        "9. Визначити елементи, більші за моду."
      ]
    },
    {
      "cell_type": "code",
      "metadata": {
        "id": "T_iQNsMOA9vL",
        "colab": {
          "base_uri": "https://localhost:8080/"
        },
        "outputId": "573a7350-bffb-44da-e4c8-1a69af5ba8ca"
      },
      "source": [
        "s1M = s1.mode()\n",
        "print(s1M)\n",
        "GMF = s1 > s1M\n",
        "GMF"
      ],
      "execution_count": 35,
      "outputs": [
        {
          "output_type": "stream",
          "text": [
            "0     6\n",
            "1    23\n",
            "dtype: int64\n"
          ],
          "name": "stdout"
        }
      ]
    },
    {
      "cell_type": "markdown",
      "metadata": {
        "id": "s3CIu9GcB6zd"
      },
      "source": [
        "10. Замінити ці елементи довільним скаляром."
      ]
    },
    {
      "cell_type": "code",
      "metadata": {
        "id": "dml0VqHDB7Zk",
        "colab": {
          "base_uri": "https://localhost:8080/"
        },
        "outputId": "9e83fb0b-43c0-4f6a-da11-a242f149f07e"
      },
      "source": [
        "s1[GMF] = 23\n",
        "s1"
      ],
      "execution_count": 28,
      "outputs": [
        {
          "output_type": "execute_result",
          "data": {
            "text/plain": [
              "1424    13\n",
              "1360     6\n",
              "1296     8\n",
              "1232     8\n",
              "1168    23\n",
              "1104    19\n",
              "1040     0\n",
              "976      8\n",
              "912     14\n",
              "848     23\n",
              "784      9\n",
              "720      0\n",
              "656      6\n",
              "592     10\n",
              "528     23\n",
              "464      6\n",
              "400      2\n",
              "336     12\n",
              "272      6\n",
              "208     23\n",
              "Name: Seria_1, dtype: int64"
            ]
          },
          "metadata": {
            "tags": []
          },
          "execution_count": 28
        }
      ]
    },
    {
      "cell_type": "markdown",
      "metadata": {
        "id": "DgLuyYZpDBdS"
      },
      "source": [
        "11. Помножити на скаляр всі елементи менші або рівні за моду.\n",
        "\n",
        "\n"
      ]
    },
    {
      "cell_type": "code",
      "metadata": {
        "id": "NS_JW2tGDCvN",
        "colab": {
          "base_uri": "https://localhost:8080/"
        },
        "outputId": "7d9eccdd-921d-4b33-dd78-f28e029fc6e3"
      },
      "source": [
        "s1[~GMF] *= 23\n",
        "s1"
      ],
      "execution_count": 45,
      "outputs": [
        {
          "output_type": "execute_result",
          "data": {
            "text/plain": [
              "1424     13\n",
              "1360    138\n",
              "1296    184\n",
              "1232    184\n",
              "1104     19\n",
              "976     184\n",
              "912      14\n",
              "784     207\n",
              "656     138\n",
              "592     230\n",
              "464     138\n",
              "400      46\n",
              "336      12\n",
              "272     138\n",
              "Name: Seria_1, dtype: int64"
            ]
          },
          "metadata": {
            "tags": []
          },
          "execution_count": 45
        }
      ]
    },
    {
      "cell_type": "markdown",
      "metadata": {
        "id": "uKWcDNtMfffi"
      },
      "source": [
        "12. Видалити елементи більші за медіану."
      ]
    },
    {
      "cell_type": "code",
      "metadata": {
        "id": "WEaLg4nMDtJ2",
        "colab": {
          "base_uri": "https://localhost:8080/"
        },
        "outputId": "bafff9a1-48f0-4b2c-9a0e-88997cab2660"
      },
      "source": [
        "s1Med = s1.median()\n",
        "print(s1Med)\n",
        "F = (s1 != s1Med)\n",
        "print(F)\n",
        "s1 = s1[F]\n",
        "s1"
      ],
      "execution_count": 42,
      "outputs": [
        {
          "output_type": "stream",
          "text": [
            "8.5\n",
            "1424    True\n",
            "1360    True\n",
            "1296    True\n",
            "1232    True\n",
            "1168    True\n",
            "1104    True\n",
            "1040    True\n",
            "976     True\n",
            "912     True\n",
            "848     True\n",
            "784     True\n",
            "720     True\n",
            "656     True\n",
            "592     True\n",
            "528     True\n",
            "464     True\n",
            "400     True\n",
            "336     True\n",
            "272     True\n",
            "208     True\n",
            "Name: Seria_1, dtype: bool\n"
          ],
          "name": "stdout"
        },
        {
          "output_type": "execute_result",
          "data": {
            "text/plain": [
              "1424    13\n",
              "1360     6\n",
              "1296     8\n",
              "1232     8\n",
              "1168    23\n",
              "1104    19\n",
              "1040     0\n",
              "976      8\n",
              "912     14\n",
              "848     23\n",
              "784      9\n",
              "720      0\n",
              "656      6\n",
              "592     10\n",
              "528     23\n",
              "464      6\n",
              "400      2\n",
              "336     12\n",
              "272      6\n",
              "208     23\n",
              "Name: Seria_1, dtype: int64"
            ]
          },
          "metadata": {
            "tags": []
          },
          "execution_count": 42
        }
      ]
    },
    {
      "cell_type": "markdown",
      "metadata": {
        "id": "uBK710mzfsLj"
      },
      "source": [
        "13. Видалити з серії мінімальне та максимальне значення."
      ]
    },
    {
      "cell_type": "code",
      "metadata": {
        "id": "3vs-vq1JftdJ",
        "colab": {
          "base_uri": "https://localhost:8080/"
        },
        "outputId": "706dc8e8-581d-4fd1-aa17-f9a34ba2185a"
      },
      "source": [
        "s1Min = s1.min()\n",
        "s1Max = s1.max()\n",
        "F = (s1 != s1Min) & (s1 != s1Max)\n",
        "s1 = s1[F]\n",
        "s1"
      ],
      "execution_count": 44,
      "outputs": [
        {
          "output_type": "execute_result",
          "data": {
            "text/plain": [
              "1424    13\n",
              "1360     6\n",
              "1296     8\n",
              "1232     8\n",
              "1104    19\n",
              "976      8\n",
              "912     14\n",
              "784      9\n",
              "656      6\n",
              "592     10\n",
              "464      6\n",
              "400      2\n",
              "336     12\n",
              "272      6\n",
              "Name: Seria_1, dtype: int64"
            ]
          },
          "metadata": {
            "tags": []
          },
          "execution_count": 44
        }
      ]
    },
    {
      "cell_type": "code",
      "metadata": {
        "id": "hjMCHLjG0Z85"
      },
      "source": [
        ""
      ],
      "execution_count": null,
      "outputs": []
    }
  ]
}